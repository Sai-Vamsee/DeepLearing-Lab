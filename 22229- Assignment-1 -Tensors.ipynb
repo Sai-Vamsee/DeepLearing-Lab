{
 "cells": [
  {
   "cell_type": "markdown",
   "id": "c0d38f67",
   "metadata": {},
   "source": [
    "# TENSORS"
   ]
  },
  {
   "cell_type": "code",
   "execution_count": 47,
   "id": "525f7538",
   "metadata": {},
   "outputs": [],
   "source": [
    "import torch\n",
    "import numpy as np"
   ]
  },
  {
   "cell_type": "markdown",
   "id": "4d4d9b2e",
   "metadata": {},
   "source": [
    "## Initializing a Tensor"
   ]
  },
  {
   "cell_type": "code",
   "execution_count": 48,
   "id": "37495abd",
   "metadata": {},
   "outputs": [],
   "source": [
    "data = [[1, 2],[3, 4]]"
   ]
  },
  {
   "cell_type": "code",
   "execution_count": 49,
   "id": "6b1520ab",
   "metadata": {},
   "outputs": [],
   "source": [
    "x_data = torch.tensor(data) # directly from the data"
   ]
  },
  {
   "cell_type": "code",
   "execution_count": 50,
   "id": "811f4e0e",
   "metadata": {},
   "outputs": [],
   "source": [
    "# from numpy array\n",
    "np_array = np.array(data)\n",
    "x_np = torch.from_numpy(np_array)"
   ]
  },
  {
   "cell_type": "code",
   "execution_count": 51,
   "id": "cb36eab2",
   "metadata": {},
   "outputs": [
    {
     "name": "stdout",
     "output_type": "stream",
     "text": [
      "Ones Tensor: \n",
      " tensor([[1, 1],\n",
      "        [1, 1]]) \n",
      "\n"
     ]
    }
   ],
   "source": [
    "# initializing tensor from another tensor\n",
    "x_ones = torch.ones_like(x_data) # retains the properties of x_data\n",
    "print(f\"Ones Tensor: \\n {x_ones} \\n\")"
   ]
  },
  {
   "cell_type": "code",
   "execution_count": 52,
   "id": "bb511c0e",
   "metadata": {},
   "outputs": [
    {
     "name": "stdout",
     "output_type": "stream",
     "text": [
      "Random Tensor: \n",
      " tensor([[0.0960, 0.2319],\n",
      "        [0.3596, 0.0534]]) \n",
      "\n"
     ]
    }
   ],
   "source": [
    "x_rand = torch.rand_like(x_data, dtype=torch.float) # overrides the datatype of x_data\n",
    "print(f\"Random Tensor: \\n {x_rand} \\n\")"
   ]
  },
  {
   "cell_type": "markdown",
   "id": "c066aeab",
   "metadata": {},
   "source": [
    "**shape** *is a tuple which determines the dimensionality of the output tensor.*"
   ]
  },
  {
   "cell_type": "code",
   "execution_count": 53,
   "id": "e6f94bc2",
   "metadata": {},
   "outputs": [
    {
     "name": "stdout",
     "output_type": "stream",
     "text": [
      "Random Tensor: \n",
      " tensor([[0.7709, 0.5982, 0.1626, 0.9997, 0.0795],\n",
      "        [0.2486, 0.7691, 0.4953, 0.2084, 0.0959],\n",
      "        [0.9094, 0.8426, 0.6938, 0.3208, 0.5259]]) \n",
      "\n",
      "Ones Tensor: \n",
      " tensor([[1., 1., 1., 1., 1.],\n",
      "        [1., 1., 1., 1., 1.],\n",
      "        [1., 1., 1., 1., 1.]]) \n",
      "\n",
      "Zeros Tensor: \n",
      " tensor([[0., 0., 0., 0., 0.],\n",
      "        [0., 0., 0., 0., 0.],\n",
      "        [0., 0., 0., 0., 0.]])\n"
     ]
    }
   ],
   "source": [
    "shape = (3,5,)\n",
    "rand_tensor = torch.rand(shape)\n",
    "ones_tensor = torch.ones(shape)\n",
    "zeros_tensor = torch.zeros(shape)\n",
    "\n",
    "print(f\"Random Tensor: \\n {rand_tensor} \\n\")\n",
    "print(f\"Ones Tensor: \\n {ones_tensor} \\n\")\n",
    "print(f\"Zeros Tensor: \\n {zeros_tensor}\")"
   ]
  },
  {
   "cell_type": "markdown",
   "id": "683970de",
   "metadata": {},
   "source": [
    "## Attributes of a Tensor"
   ]
  },
  {
   "cell_type": "markdown",
   "id": "ac7b6cde",
   "metadata": {},
   "source": [
    "*Tensor attributes describe their shape, datatype, and the device on which they are stored.*"
   ]
  },
  {
   "cell_type": "code",
   "execution_count": 54,
   "id": "12995f7a",
   "metadata": {},
   "outputs": [
    {
     "name": "stdout",
     "output_type": "stream",
     "text": [
      "Shape of tensor: torch.Size([3, 4])\n",
      "Datatype of tensor: torch.float32\n",
      "Device tensor is stored on: cpu\n"
     ]
    }
   ],
   "source": [
    "tensor = torch.rand(3,4)\n",
    "\n",
    "print(f\"Shape of tensor: {tensor.shape}\")\n",
    "print(f\"Datatype of tensor: {tensor.dtype}\")\n",
    "print(f\"Device tensor is stored on: {tensor.device}\")"
   ]
  },
  {
   "cell_type": "markdown",
   "id": "cd87a22e",
   "metadata": {},
   "source": [
    "## Operations on Tensors"
   ]
  },
  {
   "cell_type": "markdown",
   "id": "13b72cf0",
   "metadata": {},
   "source": [
    "**indexing and slicing**"
   ]
  },
  {
   "cell_type": "code",
   "execution_count": 55,
   "id": "c70f5073",
   "metadata": {},
   "outputs": [
    {
     "name": "stdout",
     "output_type": "stream",
     "text": [
      "tensor([[1., 1., 1.],\n",
      "        [1., 1., 1.]])\n",
      "First row: tensor([1., 1., 1.])\n",
      "First column: tensor([1., 1.])\n",
      "Last column: tensor([1., 1.])\n",
      "tensor([[1., 1., 5.],\n",
      "        [1., 1., 5.]])\n"
     ]
    }
   ],
   "source": [
    "tensor = torch.ones(2, 3)\n",
    "print(tensor)\n",
    "print(f\"First row: {tensor[0]}\")\n",
    "print(f\"First column: {tensor[:, 0]}\")\n",
    "print(f\"Last column: {tensor[..., -1]}\")\n",
    "tensor[:,2] = 5\n",
    "print(tensor)"
   ]
  },
  {
   "cell_type": "markdown",
   "id": "d6addcb5",
   "metadata": {},
   "source": [
    "**Joining tensors**"
   ]
  },
  {
   "cell_type": "code",
   "execution_count": 56,
   "id": "275c713c",
   "metadata": {},
   "outputs": [
    {
     "name": "stdout",
     "output_type": "stream",
     "text": [
      "tensor([[1., 1., 5., 1., 1., 5.],\n",
      "        [1., 1., 5., 1., 1., 5.]])\n"
     ]
    }
   ],
   "source": [
    "t1 = torch.cat([tensor, tensor], dim=1)\n",
    "print(t1)"
   ]
  },
  {
   "cell_type": "markdown",
   "id": "97826c29",
   "metadata": {},
   "source": [
    "**Arithmetic operations**"
   ]
  },
  {
   "cell_type": "code",
   "execution_count": 57,
   "id": "2270f2ae",
   "metadata": {},
   "outputs": [
    {
     "data": {
      "text/plain": [
       "tensor([[ 1.,  1., 25.],\n",
       "        [ 1.,  1., 25.]])"
      ]
     },
     "execution_count": 57,
     "metadata": {},
     "output_type": "execute_result"
    }
   ],
   "source": [
    "y1 = tensor @ tensor.T # ``tensor.T`` returns the transpose of a tensor\n",
    "y2 = tensor.matmul(tensor.T)\n",
    "y3 = torch.rand_like(y1)\n",
    "\n",
    "torch.matmul(tensor, tensor.T, out=y3)\n",
    "\n",
    "z1 = tensor * tensor\n",
    "z2 = tensor.mul(tensor)\n",
    "z3 = torch.rand_like(tensor)\n",
    "\n",
    "torch.mul(tensor, tensor, out=z3)"
   ]
  },
  {
   "cell_type": "markdown",
   "id": "758bed05",
   "metadata": {},
   "source": [
    "**Single-element tensors**"
   ]
  },
  {
   "cell_type": "code",
   "execution_count": 58,
   "id": "744c2f5d",
   "metadata": {},
   "outputs": [
    {
     "name": "stdout",
     "output_type": "stream",
     "text": [
      "14.0 <class 'float'>\n"
     ]
    }
   ],
   "source": [
    "agg = tensor.sum()\n",
    "agg_item = agg.item()\n",
    "print(agg_item, type(agg_item))"
   ]
  },
  {
   "cell_type": "markdown",
   "id": "3058b5c8",
   "metadata": {},
   "source": [
    "**In-place operations**"
   ]
  },
  {
   "cell_type": "code",
   "execution_count": 59,
   "id": "2cd2d89c",
   "metadata": {},
   "outputs": [
    {
     "name": "stdout",
     "output_type": "stream",
     "text": [
      "tensor([[1., 1., 5.],\n",
      "        [1., 1., 5.]]) \n",
      "\n",
      "After Addition\n",
      "tensor([[ 6.,  6., 10.],\n",
      "        [ 6.,  6., 10.]])\n"
     ]
    }
   ],
   "source": [
    "print(f\"{tensor} \\n\")\n",
    "tensor.add_(5)\n",
    "print(\"After Addition\")\n",
    "print(tensor)"
   ]
  },
  {
   "cell_type": "markdown",
   "id": "94a03d6a",
   "metadata": {},
   "source": [
    "## Bridge with numpy"
   ]
  },
  {
   "cell_type": "markdown",
   "id": "386f218b",
   "metadata": {},
   "source": [
    "**Tensor to NumPy array**"
   ]
  },
  {
   "cell_type": "code",
   "execution_count": 60,
   "id": "ece7d740",
   "metadata": {},
   "outputs": [
    {
     "name": "stdout",
     "output_type": "stream",
     "text": [
      "t: tensor([1., 1., 1., 1.])\n",
      "n: [1. 1. 1. 1.]\n"
     ]
    }
   ],
   "source": [
    "t = torch.ones(4)\n",
    "print(f\"t: {t}\")\n",
    "n = t.numpy()\n",
    "print(f\"n: {n}\")"
   ]
  },
  {
   "cell_type": "markdown",
   "id": "e8a023ef",
   "metadata": {},
   "source": [
    "A change in the tensor reflects in the NumPy array.\n",
    "\n"
   ]
  },
  {
   "cell_type": "code",
   "execution_count": 61,
   "id": "74d4ea22",
   "metadata": {},
   "outputs": [
    {
     "name": "stdout",
     "output_type": "stream",
     "text": [
      "t: tensor([3., 3., 3., 3.])\n",
      "n: [3. 3. 3. 3.]\n"
     ]
    }
   ],
   "source": [
    "t.add_(2)\n",
    "print(f\"t: {t}\")\n",
    "print(f\"n: {n}\")"
   ]
  },
  {
   "cell_type": "markdown",
   "id": "46954a44",
   "metadata": {},
   "source": [
    "**NumPy array to Tensor**"
   ]
  },
  {
   "cell_type": "code",
   "execution_count": 62,
   "id": "8a0074ca",
   "metadata": {},
   "outputs": [],
   "source": [
    "n = np.ones(5)\n",
    "t = torch.from_numpy(n)"
   ]
  },
  {
   "cell_type": "code",
   "execution_count": 63,
   "id": "1274cf85",
   "metadata": {},
   "outputs": [
    {
     "name": "stdout",
     "output_type": "stream",
     "text": [
      "t: tensor([6., 6., 6., 6., 6.], dtype=torch.float64)\n",
      "n: [6. 6. 6. 6. 6.]\n"
     ]
    }
   ],
   "source": [
    "np.add(n, 5, out=n)\n",
    "print(f\"t: {t}\")\n",
    "print(f\"n: {n}\")"
   ]
  }
 ],
 "metadata": {
  "kernelspec": {
   "display_name": "Python 3 (ipykernel)",
   "language": "python",
   "name": "python3"
  },
  "language_info": {
   "codemirror_mode": {
    "name": "ipython",
    "version": 3
   },
   "file_extension": ".py",
   "mimetype": "text/x-python",
   "name": "python",
   "nbconvert_exporter": "python",
   "pygments_lexer": "ipython3",
   "version": "3.11.4"
  }
 },
 "nbformat": 4,
 "nbformat_minor": 5
}
