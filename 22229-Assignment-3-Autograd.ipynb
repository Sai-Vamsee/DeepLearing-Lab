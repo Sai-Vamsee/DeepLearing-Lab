{
 "cells": [
  {
   "cell_type": "markdown",
   "id": "86c605e5",
   "metadata": {},
   "source": [
    "# AUTOMATIC DIFFERENTIATION WITH TORCH.AUTOGRAD "
   ]
  },
  {
   "cell_type": "markdown",
   "id": "d3311c4b",
   "metadata": {},
   "source": [
    "- Backpropagation is the widely used algorithm for training neural networks.\n",
    "- It adjusts model weights (parameters) based on the gradient of the loss function with respect to those parameters.\n",
    "- PyTorch offers a built-in differentiation engine called torch.autograd.\n",
    "- This engine allows for the automatic computation of gradients for any computational graph during training."
   ]
  },
  {
   "cell_type": "markdown",
   "id": "c4287fbb",
   "metadata": {},
   "source": [
    "**Consider the simplest one-layer neural network, with input x, parameters w and b, and some loss function. It can be defined in PyTorch in the following manner:**"
   ]
  },
  {
   "cell_type": "code",
   "execution_count": 1,
   "id": "21ea3f42",
   "metadata": {},
   "outputs": [],
   "source": [
    "import torch\n",
    "\n",
    "x = torch.ones(5)  # input tensor\n",
    "y = torch.zeros(3)  # expected output\n",
    "w = torch.randn(5, 3, requires_grad=True)\n",
    "b = torch.randn(3, requires_grad=True)\n",
    "z = torch.matmul(x, w)+b\n",
    "loss = torch.nn.functional.binary_cross_entropy_with_logits(z, y)"
   ]
  },
  {
   "cell_type": "markdown",
   "id": "ea30ba6f",
   "metadata": {},
   "source": [
    "## Tensors, Functions and Computational graph"
   ]
  },
  {
   "cell_type": "markdown",
   "id": "859477c0",
   "metadata": {},
   "source": [
    "- To construct the computational graph in PyTorch, we apply functions to tensors.\n",
    "- These functions are instances of the class Function.\n",
    "- A Function object has knowledge of both forward computation and how to compute its derivative during backward propagation.\n",
    "- During the backward propagation step, a reference to the backward function is stored in the **grad_fn** property of a tensor."
   ]
  },
  {
   "cell_type": "code",
   "execution_count": 2,
   "id": "3b2328d6",
   "metadata": {},
   "outputs": [
    {
     "name": "stdout",
     "output_type": "stream",
     "text": [
      "Gradient function for z = <AddBackward0 object at 0x000001CB0D863C40>\n",
      "Gradient function for loss = <BinaryCrossEntropyWithLogitsBackward0 object at 0x000001CB0D863D00>\n"
     ]
    }
   ],
   "source": [
    "print(f\"Gradient function for z = {z.grad_fn}\")\n",
    "print(f\"Gradient function for loss = {loss.grad_fn}\")"
   ]
  },
  {
   "cell_type": "markdown",
   "id": "f8478f35",
   "metadata": {},
   "source": [
    "## Computing Gradients"
   ]
  },
  {
   "cell_type": "markdown",
   "id": "ca8c52bc",
   "metadata": {},
   "source": [
    "- To optimize weights in a neural network, we compute the derivatives of the loss function with respect to the parameters (w and b).\n",
    "- The derivatives we need are ∂loss/∂w and ∂loss/∂b for specific values of x and y.\n",
    "- To compute these derivatives, we use the `loss.backward()` method in PyTorch.\n",
    "- After calling `loss.backward()`, the gradients are calculated and stored in `w.grad` and `b.grad`."
   ]
  },
  {
   "cell_type": "code",
   "execution_count": 3,
   "id": "5fb2197b",
   "metadata": {},
   "outputs": [
    {
     "name": "stdout",
     "output_type": "stream",
     "text": [
      "tensor([[0.0814, 0.0974, 0.0037],\n",
      "        [0.0814, 0.0974, 0.0037],\n",
      "        [0.0814, 0.0974, 0.0037],\n",
      "        [0.0814, 0.0974, 0.0037],\n",
      "        [0.0814, 0.0974, 0.0037]])\n",
      "tensor([0.0814, 0.0974, 0.0037])\n"
     ]
    }
   ],
   "source": [
    "loss.backward()\n",
    "print(w.grad)\n",
    "print(b.grad)"
   ]
  },
  {
   "cell_type": "markdown",
   "id": "7d1d6de3",
   "metadata": {},
   "source": [
    "## Disabling Gradient Tracking\n"
   ]
  },
  {
   "cell_type": "markdown",
   "id": "1db44d16",
   "metadata": {},
   "source": [
    "- By default, tensors with `requires_grad=True` track their computational history and support gradient computation.\n",
    "- In certain scenarios, such as when we only want to apply a trained model to input data for forward computations without computing gradients, we can stop tracking computations using `torch.no_grad()` block.\n",
    "- By wrapping our computation code within the `torch.no_grad()` block, PyTorch will not track the operations and gradients, saving memory and computation time.\n",
    "- This is particularly useful for inference or evaluation phases, where we do not need to update model parameters.\n",
    "- Using `torch.no_grad()` allows us to efficiently use the trained model for prediction without incurring additional overhead for gradient computations."
   ]
  },
  {
   "cell_type": "code",
   "execution_count": 4,
   "id": "25631b33",
   "metadata": {},
   "outputs": [
    {
     "name": "stdout",
     "output_type": "stream",
     "text": [
      "True\n",
      "False\n"
     ]
    }
   ],
   "source": [
    "z = torch.matmul(x, w)+b\n",
    "print(z.requires_grad)\n",
    "\n",
    "with torch.no_grad():\n",
    "    z = torch.matmul(x, w)+b\n",
    "print(z.requires_grad)"
   ]
  },
  {
   "cell_type": "markdown",
   "id": "2a370f35",
   "metadata": {},
   "source": [
    "*Another way to achieve the same result is to use the detach() method on the tensor:*"
   ]
  },
  {
   "cell_type": "code",
   "execution_count": 5,
   "id": "7e6fc5f7",
   "metadata": {},
   "outputs": [
    {
     "name": "stdout",
     "output_type": "stream",
     "text": [
      "False\n"
     ]
    }
   ],
   "source": [
    "z = torch.matmul(x, w)+b\n",
    "z_det = z.detach()\n",
    "print(z_det.requires_grad)"
   ]
  },
  {
   "cell_type": "code",
   "execution_count": null,
   "id": "9b2e3ae9",
   "metadata": {},
   "outputs": [],
   "source": []
  }
 ],
 "metadata": {
  "kernelspec": {
   "display_name": "Python 3 (ipykernel)",
   "language": "python",
   "name": "python3"
  },
  "language_info": {
   "codemirror_mode": {
    "name": "ipython",
    "version": 3
   },
   "file_extension": ".py",
   "mimetype": "text/x-python",
   "name": "python",
   "nbconvert_exporter": "python",
   "pygments_lexer": "ipython3",
   "version": "3.11.4"
  }
 },
 "nbformat": 4,
 "nbformat_minor": 5
}
