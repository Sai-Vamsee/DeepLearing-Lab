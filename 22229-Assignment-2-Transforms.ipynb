{
 "cells": [
  {
   "cell_type": "markdown",
   "id": "70d03b11",
   "metadata": {},
   "source": [
    "# TRANSFORMS"
   ]
  },
  {
   "cell_type": "markdown",
   "id": "21d95cc8",
   "metadata": {},
   "source": [
    "- Data often requires manipulation before training ML algorithms.\n",
    "- TorchVision datasets have \"transform\" and \"target_transform\" parameters for this purpose.\n",
    "- FashionMNIST features are in PIL Image format, labels as integers.\n",
    "- For training, use \"ToTensor\" to convert features to tensors and normalize pixel values.\n",
    "- \"Lambda\" is used to apply custom functions like one-hot encoding to the labels."
   ]
  },
  {
   "cell_type": "code",
   "execution_count": 1,
   "id": "ffc837f6",
   "metadata": {},
   "outputs": [],
   "source": [
    "import torch\n",
    "from torchvision import datasets\n",
    "from torchvision.transforms import ToTensor, Lambda\n",
    "\n",
    "ds = datasets.FashionMNIST(\n",
    "    root=\"data\",\n",
    "    train=True,\n",
    "    download=True,\n",
    "    transform=ToTensor(),  #transforms input images into PyTorch tensors \n",
    "    target_transform=Lambda(lambda y: torch.zeros(10, dtype=torch.float).scatter_(0, torch.tensor(y), value=1))\n",
    ")"
   ]
  },
  {
   "cell_type": "markdown",
   "id": "ec6eb89c",
   "metadata": {},
   "source": [
    "### Lambda Transforms"
   ]
  },
  {
   "cell_type": "markdown",
   "id": "513e4730",
   "metadata": {},
   "source": [
    "- Lambda transforms apply user-defined lambda functions.\n",
    "- For one-hot encoding, a custom function is defined using Lambda.\n",
    "- The function creates a zero tensor of size 10 (number of labels).\n",
    "- The scatter_ function assigns a value of 1 at the index corresponding to the label 'y'.\n",
    "- This process effectively converts the integer label into a one-hot encoded tensor."
   ]
  },
  {
   "cell_type": "code",
   "execution_count": 2,
   "id": "bbca9b61",
   "metadata": {},
   "outputs": [],
   "source": [
    "target_transform = Lambda(lambda y: torch.zeros(\n",
    "    10, dtype=torch.float).scatter_(dim=0, index=torch.tensor(y), value=1))"
   ]
  }
 ],
 "metadata": {
  "kernelspec": {
   "display_name": "Python 3 (ipykernel)",
   "language": "python",
   "name": "python3"
  },
  "language_info": {
   "codemirror_mode": {
    "name": "ipython",
    "version": 3
   },
   "file_extension": ".py",
   "mimetype": "text/x-python",
   "name": "python",
   "nbconvert_exporter": "python",
   "pygments_lexer": "ipython3",
   "version": "3.11.4"
  }
 },
 "nbformat": 4,
 "nbformat_minor": 5
}
