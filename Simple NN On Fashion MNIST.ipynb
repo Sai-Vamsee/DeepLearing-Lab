{
 "cells": [
  {
   "cell_type": "markdown",
   "id": "a6ee85b0",
   "metadata": {},
   "source": [
    "# Assignment - 2 \n",
    "### Rool.no:22229"
   ]
  },
  {
   "cell_type": "code",
   "execution_count": 7,
   "id": "6a3bacb3",
   "metadata": {},
   "outputs": [],
   "source": [
    "import torch\n",
    "import torch.nn as nn\n",
    "import torchvision\n",
    "import torchvision.transforms as transforms\n",
    "import matplotlib.pyplot as plt\n",
    "from torchvision import datasets\n",
    "from torchvision.transforms import ToTensor\n",
    "from torch.utils.data import DataLoader"
   ]
  },
  {
   "cell_type": "code",
   "execution_count": 10,
   "id": "4752077d",
   "metadata": {},
   "outputs": [],
   "source": [
    "training_data=datasets.FashionMNIST(\n",
    "    root=\"data\",\n",
    "    train=True,\n",
    "    download=True,\n",
    "    transform=ToTensor()\n",
    ")\n",
    "test_data=datasets.FashionMNIST(\n",
    "    root=\"data\",\n",
    "    train=False,\n",
    "    download=True,\n",
    "    transform=ToTensor()\n",
    ")"
   ]
  },
  {
   "cell_type": "code",
   "execution_count": 13,
   "id": "f22b4f6b",
   "metadata": {},
   "outputs": [],
   "source": [
    "train_loader = DataLoader(dataset=training_data,batch_size=64,shuffle=True)\n",
    "test_loader = DataLoader(dataset=test_data, batch_size=64,shuffle=False)"
   ]
  },
  {
   "cell_type": "code",
   "execution_count": 16,
   "id": "d3287526",
   "metadata": {},
   "outputs": [
    {
     "data": {
      "image/png": "[encoded data removed]",
      "text/plain": [
       "<Figure size 640x480 with 6 Axes>"
      ]
     },
     "metadata": {},
     "output_type": "display_data"
    }
   ],
   "source": [
    "examples = next(iter(test_loader))\n",
    "example_data, example_targets = examples\n",
    "for i in range(6):\n",
    "    plt.subplot(2,3,i+1)\n",
    "    plt.imshow(example_data[i][0], cmap='gray')\n",
    "plt.show()"
   ]
  },
  {
   "cell_type": "code",
   "execution_count": 25,
   "id": "89469178",
   "metadata": {},
   "outputs": [],
   "source": [
    "class SimpleNeuralNetwork(nn.Module):\n",
    "    def __init__(self):\n",
    "        super(SimpleNeuralNetwork, self).__init__()\n",
    "        self.linear1 = nn.Linear(28 * 28, 128)\n",
    "        self.linear2 = nn.Linear(128, 64)\n",
    "        self.linear3 = nn.Linear(64, 10)\n",
    "\n",
    "    def forward(self, x):\n",
    "        x = x.view(x.size(0), -1)\n",
    "        x = torch.relu(self.linear1(x))\n",
    "        x = torch.relu(self.linear2(x))\n",
    "        x = torch.softmax(self.linear3(x), dim=1)\n",
    "        return x\n"
   ]
  },
  {
   "cell_type": "code",
   "execution_count": 28,
   "id": "88d86b26",
   "metadata": {},
   "outputs": [],
   "source": [
    "model = SimpleNeuralNetwork()\n",
    "\n",
    "\n",
    "criterion = nn.CrossEntropyLoss()\n",
    "optimizer = torch.optim.SGD(model.parameters(), lr=0.01)\n"
   ]
  },
  {
   "cell_type": "code",
   "execution_count": 33,
   "id": "b926602e",
   "metadata": {},
   "outputs": [
    {
     "name": "stdout",
     "output_type": "stream",
     "text": [
      "Epoch [1/5], Step [100/938], Loss: 2.3008\n",
      "Epoch [1/5], Step [200/938], Loss: 2.3016\n",
      "Epoch [1/5], Step [300/938], Loss: 2.3004\n",
      "Epoch [1/5], Step [400/938], Loss: 2.2993\n",
      "Epoch [1/5], Step [500/938], Loss: 2.2970\n",
      "Epoch [1/5], Step [600/938], Loss: 2.2983\n",
      "Epoch [1/5], Step [700/938], Loss: 2.2988\n",
      "Epoch [1/5], Step [800/938], Loss: 2.2973\n",
      "Epoch [1/5], Step [900/938], Loss: 2.2956\n",
      "Epoch [2/5], Step [100/938], Loss: 2.2952\n",
      "Epoch [2/5], Step [200/938], Loss: 2.2912\n",
      "Epoch [2/5], Step [300/938], Loss: 2.2923\n",
      "Epoch [2/5], Step [400/938], Loss: 2.2887\n",
      "Epoch [2/5], Step [500/938], Loss: 2.2849\n",
      "Epoch [2/5], Step [600/938], Loss: 2.2862\n",
      "Epoch [2/5], Step [700/938], Loss: 2.2848\n",
      "Epoch [2/5], Step [800/938], Loss: 2.2810\n",
      "Epoch [2/5], Step [900/938], Loss: 2.2700\n",
      "Epoch [3/5], Step [100/938], Loss: 2.2630\n",
      "Epoch [3/5], Step [200/938], Loss: 2.2490\n",
      "Epoch [3/5], Step [300/938], Loss: 2.2221\n",
      "Epoch [3/5], Step [400/938], Loss: 2.2370\n",
      "Epoch [3/5], Step [500/938], Loss: 2.2584\n",
      "Epoch [3/5], Step [600/938], Loss: 2.1781\n",
      "Epoch [3/5], Step [700/938], Loss: 2.1792\n",
      "Epoch [3/5], Step [800/938], Loss: 2.2064\n",
      "Epoch [3/5], Step [900/938], Loss: 2.1280\n",
      "Epoch [4/5], Step [100/938], Loss: 2.1007\n",
      "Epoch [4/5], Step [200/938], Loss: 2.0767\n",
      "Epoch [4/5], Step [300/938], Loss: 2.0735\n",
      "Epoch [4/5], Step [400/938], Loss: 2.0809\n",
      "Epoch [4/5], Step [500/938], Loss: 2.0543\n",
      "Epoch [4/5], Step [600/938], Loss: 2.0674\n",
      "Epoch [4/5], Step [700/938], Loss: 2.0564\n",
      "Epoch [4/5], Step [800/938], Loss: 2.0170\n",
      "Epoch [4/5], Step [900/938], Loss: 2.0121\n",
      "Epoch [5/5], Step [100/938], Loss: 1.9824\n",
      "Epoch [5/5], Step [200/938], Loss: 2.0264\n",
      "Epoch [5/5], Step [300/938], Loss: 1.9898\n",
      "Epoch [5/5], Step [400/938], Loss: 1.9078\n",
      "Epoch [5/5], Step [500/938], Loss: 1.9726\n",
      "Epoch [5/5], Step [600/938], Loss: 1.9489\n",
      "Epoch [5/5], Step [700/938], Loss: 1.8905\n",
      "Epoch [5/5], Step [800/938], Loss: 1.8602\n",
      "Epoch [5/5], Step [900/938], Loss: 1.9077\n"
     ]
    }
   ],
   "source": [
    "epochs = 10\n",
    "n_total_steps = len(train_loader)\n",
    "for epoch in range(epochs):\n",
    "    for i, (images, labels) in enumerate(train_loader):\n",
    "        # origin shape: [100, 1, 28, 28]\n",
    "        # resized: [100, 784]\n",
    "        images = images.reshape(-1, 28*28)\n",
    "        labels = labels\n",
    "\n",
    "        # Forward pass\n",
    "        outputs = model(images)\n",
    "        loss = criterion(outputs, labels)\n",
    "\n",
    "        # Backward and optimize\n",
    "        optimizer.zero_grad()\n",
    "        loss.backward()\n",
    "        optimizer.step()\n",
    "\n",
    "        if (i+1) % 100 == 0:\n",
    "            print (f'Epoch [{epoch+1}/{epochs}], Step [{i+1}/{n_total_steps}], Loss: {loss.item():.4f}')"
   ]
  },
  {
   "cell_type": "code",
   "execution_count": 36,
   "id": "a42a0bf4",
   "metadata": {},
   "outputs": [
    {
     "name": "stdout",
     "output_type": "stream",
     "text": [
      "Accuracy of the network o: 65.28 %\n"
     ]
    }
   ],
   "source": [
    "with torch.no_grad():\n",
    "    n_correct = 0\n",
    "    n_samples = 0\n",
    "    for images, labels in test_loader:\n",
    "        images = images.reshape(-1, 28*28)\n",
    "        labels = labels\n",
    "        outputs = model(images)\n",
    "        # max returns (value ,index)\n",
    "        _, predicted = torch.max(outputs.data, 1)\n",
    "        n_samples += labels.size(0)\n",
    "        n_correct += (predicted == labels).sum().item()\n",
    "\n",
    "    acc = 100.0 * n_correct / n_samples\n",
    "    print(f'Accuracy of the network o: {acc} %')"
   ]
  },
  {
   "cell_type": "code",
   "execution_count": null,
   "id": "e24b9473",
   "metadata": {},
   "outputs": [],
   "source": []
  }
 ],
 "metadata": {
  "kernelspec": {
   "display_name": "Python 3 (ipykernel)",
   "language": "python",
   "name": "python3"
  },
  "language_info": {
   "codemirror_mode": {
    "name": "ipython",
    "version": 3
   },
   "file_extension": ".py",
   "mimetype": "text/x-python",
   "name": "python",
   "nbconvert_exporter": "python",
   "pygments_lexer": "ipython3",
   "version": "3.11.4"
  }
 },
 "nbformat": 4,
 "nbformat_minor": 5
}
